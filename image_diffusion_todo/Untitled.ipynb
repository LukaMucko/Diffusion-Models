{
 "cells": [
  {
   "cell_type": "code",
   "execution_count": 6,
   "id": "5f5b7e6d-4ce5-47a1-a568-c13240208ce2",
   "metadata": {},
   "outputs": [
    {
     "name": "stdout",
     "output_type": "stream",
     "text": [
      "The autoreload extension is already loaded. To reload it, use:\n",
      "  %reload_ext autoreload\n"
     ]
    }
   ],
   "source": [
    "%load_ext autoreload\n",
    "%autoreload 2\n",
    "import torch\n",
    "from scheduler import DDPMScheduler, DDIMScheduler"
   ]
  },
  {
   "cell_type": "code",
   "execution_count": 8,
   "id": "1ae5ffe5-6d1d-46ed-9969-5f3f5a748ac0",
   "metadata": {},
   "outputs": [],
   "source": [
    "ddim = DDIMScheduler(100, 1, 100)"
   ]
  }
 ],
 "metadata": {
  "kernelspec": {
   "display_name": "Python 3 (ipykernel)",
   "language": "python",
   "name": "python3"
  },
  "language_info": {
   "codemirror_mode": {
    "name": "ipython",
    "version": 3
   },
   "file_extension": ".py",
   "mimetype": "text/x-python",
   "name": "python",
   "nbconvert_exporter": "python",
   "pygments_lexer": "ipython3",
   "version": "3.10.10"
  }
 },
 "nbformat": 4,
 "nbformat_minor": 5
}
